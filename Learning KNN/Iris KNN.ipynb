{
 "cells": [
  {
   "cell_type": "markdown",
   "id": "47e8a9f7",
   "metadata": {},
   "source": [
    "# KNN example using Iris dataset"
   ]
  },
  {
   "cell_type": "markdown",
   "id": "6c7876e4",
   "metadata": {},
   "source": [
    "KNN means k-Nearest Neighbors, and is an algorithm that classifies or calculates a regression based on the items in the training set that are 'closer' to each of the testing points.\n",
    "\n",
    "I'm gonna use the Iris dataset, a very famous dataset used in a lot of data science examples."
   ]
  },
  {
   "cell_type": "code",
   "execution_count": 2,
   "id": "ce4722cf",
   "metadata": {},
   "outputs": [],
   "source": [
    "import pandas as pd\n",
    "import numpy as np\n",
    "from sklearn.model_selection import train_test_split"
   ]
  },
  {
   "cell_type": "code",
   "execution_count": 41,
   "id": "b6a4b2b2",
   "metadata": {},
   "outputs": [
    {
     "data": {
      "text/html": [
       "<div>\n",
       "<style scoped>\n",
       "    .dataframe tbody tr th:only-of-type {\n",
       "        vertical-align: middle;\n",
       "    }\n",
       "\n",
       "    .dataframe tbody tr th {\n",
       "        vertical-align: top;\n",
       "    }\n",
       "\n",
       "    .dataframe thead th {\n",
       "        text-align: right;\n",
       "    }\n",
       "</style>\n",
       "<table border=\"1\" class=\"dataframe\">\n",
       "  <thead>\n",
       "    <tr style=\"text-align: right;\">\n",
       "      <th></th>\n",
       "      <th>sepal length</th>\n",
       "      <th>sepal width</th>\n",
       "      <th>petal length</th>\n",
       "      <th>petal width</th>\n",
       "      <th>label</th>\n",
       "    </tr>\n",
       "  </thead>\n",
       "  <tbody>\n",
       "    <tr>\n",
       "      <th>0</th>\n",
       "      <td>5.1</td>\n",
       "      <td>3.5</td>\n",
       "      <td>1.4</td>\n",
       "      <td>0.2</td>\n",
       "      <td>0</td>\n",
       "    </tr>\n",
       "    <tr>\n",
       "      <th>1</th>\n",
       "      <td>4.9</td>\n",
       "      <td>3.0</td>\n",
       "      <td>1.4</td>\n",
       "      <td>0.2</td>\n",
       "      <td>0</td>\n",
       "    </tr>\n",
       "    <tr>\n",
       "      <th>2</th>\n",
       "      <td>4.7</td>\n",
       "      <td>3.2</td>\n",
       "      <td>1.3</td>\n",
       "      <td>0.2</td>\n",
       "      <td>0</td>\n",
       "    </tr>\n",
       "    <tr>\n",
       "      <th>3</th>\n",
       "      <td>4.6</td>\n",
       "      <td>3.1</td>\n",
       "      <td>1.5</td>\n",
       "      <td>0.2</td>\n",
       "      <td>0</td>\n",
       "    </tr>\n",
       "    <tr>\n",
       "      <th>4</th>\n",
       "      <td>5.0</td>\n",
       "      <td>3.6</td>\n",
       "      <td>1.4</td>\n",
       "      <td>0.2</td>\n",
       "      <td>0</td>\n",
       "    </tr>\n",
       "  </tbody>\n",
       "</table>\n",
       "</div>"
      ],
      "text/plain": [
       "   sepal length  sepal width  petal length  petal width  label\n",
       "0           5.1          3.5           1.4          0.2      0\n",
       "1           4.9          3.0           1.4          0.2      0\n",
       "2           4.7          3.2           1.3          0.2      0\n",
       "3           4.6          3.1           1.5          0.2      0\n",
       "4           5.0          3.6           1.4          0.2      0"
      ]
     },
     "execution_count": 41,
     "metadata": {},
     "output_type": "execute_result"
    }
   ],
   "source": [
    "from sklearn.datasets import load_iris\n",
    "iris = load_iris()\n",
    "df = pd.DataFrame(data=iris['data'], columns=['sepal length', 'sepal width',\n",
    "                                                  'petal length', 'petal width'])\n",
    "df['label'] = iris['target']\n",
    "df.head()"
   ]
  },
  {
   "cell_type": "markdown",
   "id": "9c013329",
   "metadata": {},
   "source": [
    "Here we divide the dataset into two parts, one without the target and another only with the target. These two parts are usually called features (x) and labels (y)"
   ]
  },
  {
   "cell_type": "code",
   "execution_count": 43,
   "id": "05f7ff8f",
   "metadata": {},
   "outputs": [],
   "source": [
    "X = df.drop('label', axis=1)\n",
    "Y = df['label']"
   ]
  },
  {
   "cell_type": "markdown",
   "id": "c1c20ac7",
   "metadata": {},
   "source": [
    "To implement KNN method, the values of the dataset need to be in the same proportions, for that we can use an function called MinMaxScaller"
   ]
  },
  {
   "cell_type": "code",
   "execution_count": 47,
   "id": "f83be70a",
   "metadata": {},
   "outputs": [],
   "source": [
    "from sklearn.preprocessing import MinMaxScaler\n",
    "\n",
    "x_scaler = MinMaxScaler()\n",
    "X = x_scaler.fit_transform(X)"
   ]
  },
  {
   "cell_type": "markdown",
   "id": "e800a747",
   "metadata": {},
   "source": [
    "Now, we can split the data into train and test to use in the KNN method after"
   ]
  },
  {
   "cell_type": "code",
   "execution_count": 49,
   "id": "47b2f19a",
   "metadata": {},
   "outputs": [],
   "source": [
    "from sklearn.model_selection import train_test_split\n",
    "\n",
    "x_train, x_test, y_train, y_test = train_test_split(X, Y, test_size=0.3, random_state=42)"
   ]
  },
  {
   "cell_type": "markdown",
   "id": "23438094",
   "metadata": {},
   "source": [
    "In this part I just imported the knn module that I already have on my machine to make the prediction of the target values and print the accuracy of the model"
   ]
  },
  {
   "cell_type": "code",
   "execution_count": 70,
   "id": "f19db1e1",
   "metadata": {},
   "outputs": [
    {
     "name": "stdout",
     "output_type": "stream",
     "text": [
      "97.78\n"
     ]
    }
   ],
   "source": [
    "from knn import knn_predictions\n",
    "from knn import knn_accuracy\n",
    "\n",
    "predict = knn_predictions(xTrain, yTrain, xTest,3)\n",
    "print(knn_accuracy(predict,yTest))"
   ]
  }
 ],
 "metadata": {
  "kernelspec": {
   "display_name": "Python 3",
   "language": "python",
   "name": "python3"
  },
  "language_info": {
   "codemirror_mode": {
    "name": "ipython",
    "version": 3
   },
   "file_extension": ".py",
   "mimetype": "text/x-python",
   "name": "python",
   "nbconvert_exporter": "python",
   "pygments_lexer": "ipython3",
   "version": "3.8.8"
  }
 },
 "nbformat": 4,
 "nbformat_minor": 5
}
