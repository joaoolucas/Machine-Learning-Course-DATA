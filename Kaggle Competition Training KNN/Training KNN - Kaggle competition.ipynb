{
 "cells": [
  {
   "cell_type": "markdown",
   "id": "b75a6f87",
   "metadata": {},
   "source": [
    "# Treinando Machine Learning - KNN\n",
    "## Competição Kaggle Data Science London + Scikit-learn\n",
    "Nesse notebook fiz uma breve recapitulação antes da segunda aula de Machine Learning do DATA. Utilizei os dados de uma competição antiga do Kaggle para criar um modelo com o algoritmo KNN."
   ]
  },
  {
   "cell_type": "code",
   "execution_count": 16,
   "id": "b1f5b609",
   "metadata": {},
   "outputs": [],
   "source": [
    "import pandas as pd\n",
    "import numpy as np\n",
    "import matplotlib.pyplot as plt"
   ]
  },
  {
   "cell_type": "code",
   "execution_count": 20,
   "id": "38f2a542",
   "metadata": {},
   "outputs": [],
   "source": [
    "df_train = pd.read_csv('train.csv', header=None)\n",
    "df_test = pd.read_csv('test.csv', header=None)\n",
    "df_label = pd.read_csv('trainLabels.csv', header= None)"
   ]
  },
  {
   "cell_type": "code",
   "execution_count": 23,
   "id": "ac015802",
   "metadata": {},
   "outputs": [],
   "source": [
    "from sklearn.model_selection import train_test_split\n",
    "df_label = np.ravel(df_label)\n",
    "Xtrain, Xval, ytrain, yval = train_test_split(df_train, df_label, random_state=42, test_size=0.2)"
   ]
  },
  {
   "cell_type": "markdown",
   "id": "cd51c243",
   "metadata": {},
   "source": [
    "Após carregar os dados e dividir os dados em treino e validação, agora vou utilizar o parâmetro KNeighborsClassifier para treinar os dados e em seguida \"printar\" a acurácia para cada número de vizinhos e selecionar a melhor acurácia."
   ]
  },
  {
   "cell_type": "code",
   "execution_count": 36,
   "id": "8203d697",
   "metadata": {},
   "outputs": [
    {
     "name": "stdout",
     "output_type": "stream",
     "text": [
      "kNN (k=1): acurácia do treino=1.00000, acurácia da validação=0.88500\n",
      "kNN (k=2): acurácia do treino=0.95125, acurácia da validação=0.88500\n",
      "kNN (k=3): acurácia do treino=0.94625, acurácia da validação=0.87500\n",
      "kNN (k=4): acurácia do treino=0.95500, acurácia da validação=0.89500\n",
      "kNN (k=5): acurácia do treino=0.94375, acurácia da validação=0.88000\n",
      "kNN (k=6): acurácia do treino=0.94250, acurácia da validação=0.90000\n",
      "kNN (k=7): acurácia do treino=0.93375, acurácia da validação=0.88500\n",
      "kNN (k=8): acurácia do treino=0.93000, acurácia da validação=0.89000\n",
      "kNN (k=9): acurácia do treino=0.93625, acurácia da validação=0.88000\n",
      "kNN (k=10): acurácia do treino=0.92875, acurácia da validação=0.90500\n",
      "kNN (k=11): acurácia do treino=0.93125, acurácia da validação=0.87500\n",
      "kNN (k=12): acurácia do treino=0.92625, acurácia da validação=0.88000\n",
      "kNN (k=13): acurácia do treino=0.92250, acurácia da validação=0.85000\n",
      "kNN (k=14): acurácia do treino=0.92250, acurácia da validação=0.88000\n",
      "kNN (k=15): acurácia do treino=0.91750, acurácia da validação=0.86000\n",
      "kNN (k=16): acurácia do treino=0.91875, acurácia da validação=0.87000\n",
      "kNN (k=17): acurácia do treino=0.91250, acurácia da validação=0.86500\n",
      "kNN (k=18): acurácia do treino=0.90500, acurácia da validação=0.87000\n",
      "kNN (k=19): acurácia do treino=0.91250, acurácia da validação=0.87000\n",
      "kNN (k=20): acurácia do treino=0.91375, acurácia da validação=0.86500\n",
      "kNN (k=21): acurácia do treino=0.91125, acurácia da validação=0.86500\n",
      "kNN (k=22): acurácia do treino=0.90750, acurácia da validação=0.87500\n",
      "kNN (k=23): acurácia do treino=0.89750, acurácia da validação=0.87000\n",
      "kNN (k=24): acurácia do treino=0.89875, acurácia da validação=0.88500\n",
      "kNN (k=25): acurácia do treino=0.90000, acurácia da validação=0.87500\n"
     ]
    },
    {
     "data": {
      "image/png": "[encoded data removed]",
      "text/plain": [
       "<Figure size 432x288 with 1 Axes>"
      ]
     },
     "metadata": {
      "needs_background": "light"
     },
     "output_type": "display_data"
    },
    {
     "name": "stdout",
     "output_type": "stream",
     "text": [
      "Melhor acurácia (k=10): 0.90500\n"
     ]
    }
   ],
   "source": [
    "from sklearn.neighbors import KNeighborsClassifier\n",
    "from sklearn.metrics import accuracy_score\n",
    "\n",
    "num_neighs = np.arange(1,26)\n",
    "train_accuracy = []\n",
    "val_accuracy = []\n",
    "best_accuracy_knn = 0.0\n",
    "\n",
    "for i, n in enumerate(num_neighs):\n",
    "    knn = KNeighborsClassifier(n_neighbors=n)\n",
    "    knn.fit(Xtrain, ytrain)\n",
    "    train_accuracy.append(knn.score(Xtrain, ytrain))\n",
    "    val_accuracy.append(knn.score(Xval, yval))\n",
    "    print(\"kNN (k={}): acurácia do treino={:.5f}, acurácia da validação={:.5f}\"\n",
    "          .format(n, train_accuracy[i], val_accuracy[i]))\n",
    "    if val_accuracy[i] > best_accuracy_knn:\n",
    "        best_accuracy_knn = val_accuracy[i]\n",
    "        best_knn = knn\n",
    "        best_num_neighs = n\n",
    "\n",
    "plt.plot(num_neighs, train_accuracy, label='Treino')\n",
    "plt.plot(num_neighs, val_accuracy, label='Validação')\n",
    "plt.ylabel('Acurácia')\n",
    "plt.xlabel('Número de vizinhos')\n",
    "plt.legend()\n",
    "plt.show()\n",
    "\n",
    "print('Melhor acurácia (k={}): {:.5f}'.format(best_num_neighs, best_accuracy_knn))"
   ]
  }
 ],
 "metadata": {
  "kernelspec": {
   "display_name": "Python 3",
   "language": "python",
   "name": "python3"
  },
  "language_info": {
   "codemirror_mode": {
    "name": "ipython",
    "version": 3
   },
   "file_extension": ".py",
   "mimetype": "text/x-python",
   "name": "python",
   "nbconvert_exporter": "python",
   "pygments_lexer": "ipython3",
   "version": "3.8.8"
  }
 },
 "nbformat": 4,
 "nbformat_minor": 5
}
